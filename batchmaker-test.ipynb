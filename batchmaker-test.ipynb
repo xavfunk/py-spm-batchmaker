{
 "cells": [
  {
   "cell_type": "markdown",
   "metadata": {},
   "source": [
    "## TODO\n",
    "\n",
    "* add description\n",
    "* fix bug in conditions"
   ]
  },
  {
   "cell_type": "code",
   "execution_count": 86,
   "metadata": {},
   "outputs": [],
   "source": [
    "\"\"\"import stuff\"\"\"\n",
    "\n",
    "import pandas as pd       #for csv as dataframes\n",
    "import scipy.io as sio    #for mat files\n",
    "import numpy as np \n",
    "import pickle\n",
    "\n",
    "from batchmaker import *\n",
    "\n"
   ]
  },
  {
   "cell_type": "code",
   "execution_count": 63,
   "metadata": {},
   "outputs": [],
   "source": [
    "\"\"\"create mock data\"\"\"\n",
    "\n",
    "\"\"\"image paths\"\"\"\n",
    "\n",
    "# scans\n",
    "n_subj = 20\n",
    "n_scans = 400 \n",
    "paths = np.empty((n_subj,), dtype = np.object) # scans\n",
    "mult_regs = np.empty((n_subj), dtype = np.object) # movement parameters\n",
    "\n",
    "for i in range(n_subj):\n",
    "    \n",
    "    paths[i] = [\"subj{}_scan{}.nii\".format(str(i).zfill(2), str(j).zfill(3)) for j in range(n_scans)] # 400 scans per subject\n",
    "    mult_regs[i] = \"mult_reg_subj{}.txt\".format(str(i).zfill(2)) # one mult_reg.txt file per subject\n",
    "    \n",
    "\n",
    "\"\"\"design\"\"\"\n",
    "\n",
    "# creating names for the regressors\n",
    "names = ['test_condition', 'control_condition']\n",
    "\n",
    "# creating all durations and onsets\n",
    "durations = np.array([25] * 32)\n",
    "onsets_all = np.append(np.array(0), np.cumsum(durations)[:-1])\n",
    "\n",
    "# splitting them into test and control \n",
    "durations_test, durations_control = np.array_split(durations, 2) \n",
    "\n",
    "onsets_test = onsets_all[[i for i in range(0, len(onsets_all), 2)]]\n",
    "onsets_control = onsets_all[[i for i in range(1, len(onsets_all), 2)]]"
   ]
  },
  {
   "cell_type": "code",
   "execution_count": 98,
   "metadata": {},
   "outputs": [],
   "source": [
    "\"\"\"Make the conditions\"\"\"\n",
    "cond = conditions(names = names, onsets = [onsets_test, onsets_control], durations = [durations_test, durations_control])\n",
    "\n",
    "\"\"\"Make the sessions\"\"\"\n",
    "\n",
    "for i in range(n_subj):\n",
    "    mult_reg = mult_regs[i]\n",
    "    sess = session(np.array([paths[i]]), np.array([cond]), mult_reg) # does not work with only one session\n",
    "\n",
    "#sio.savemat('sessions.mat', {'sessbatch2':sessions.mat})\n",
    "\n",
    "\"\"\"Make the batchfile\"\"\"\n",
    "\n",
    "batch = batchfile('home/funkx', timingParams(), sess)\n",
    "\n",
    "sio.savemat('subX.mat', {'matlabbatch':batch.matlabbatch})"
   ]
  },
  {
   "cell_type": "code",
   "execution_count": 93,
   "metadata": {},
   "outputs": [
    {
     "data": {
      "text/plain": [
       "(2,)"
      ]
     },
     "execution_count": 93,
     "metadata": {},
     "output_type": "execute_result"
    }
   ],
   "source": [
    "cond.mat.shape"
   ]
  },
  {
   "cell_type": "code",
   "execution_count": 41,
   "metadata": {},
   "outputs": [
    {
     "ename": "NameError",
     "evalue": "name 'hf_onsets_sess1' is not defined",
     "output_type": "error",
     "traceback": [
      "\u001b[1;31m---------------------------------------------------------------------------\u001b[0m",
      "\u001b[1;31mNameError\u001b[0m                                 Traceback (most recent call last)",
      "\u001b[1;32m<ipython-input-41-34b9684e9679>\u001b[0m in \u001b[0;36m<module>\u001b[1;34m\u001b[0m\n\u001b[0;32m      3\u001b[0m \u001b[0mnames\u001b[0m \u001b[1;33m=\u001b[0m \u001b[1;33m[\u001b[0m\u001b[1;34m'high_freq'\u001b[0m\u001b[1;33m,\u001b[0m \u001b[1;34m'low_freq'\u001b[0m\u001b[1;33m]\u001b[0m\u001b[1;33m\u001b[0m\u001b[1;33m\u001b[0m\u001b[0m\n\u001b[0;32m      4\u001b[0m \u001b[1;31m#pmod = [[\"name\"]*5, np.random.rand(5, 100), 1]\u001b[0m\u001b[1;33m\u001b[0m\u001b[1;33m\u001b[0m\u001b[1;33m\u001b[0m\u001b[0m\n\u001b[1;32m----> 5\u001b[1;33m \u001b[0monsets_sess1\u001b[0m \u001b[1;33m=\u001b[0m \u001b[1;33m[\u001b[0m\u001b[0mhf_onsets_sess1\u001b[0m\u001b[1;33m,\u001b[0m \u001b[0mlf_onsets_sess1\u001b[0m\u001b[1;33m]\u001b[0m\u001b[1;33m\u001b[0m\u001b[1;33m\u001b[0m\u001b[0m\n\u001b[0m\u001b[0;32m      6\u001b[0m \u001b[0mdurations_sess1\u001b[0m \u001b[1;33m=\u001b[0m \u001b[1;33m[\u001b[0m\u001b[0mhf_durations_sess1\u001b[0m\u001b[1;33m,\u001b[0m \u001b[0mlf_durations_sess1\u001b[0m\u001b[1;33m]\u001b[0m\u001b[1;33m\u001b[0m\u001b[1;33m\u001b[0m\u001b[0m\n\u001b[0;32m      7\u001b[0m \u001b[1;33m\u001b[0m\u001b[0m\n",
      "\u001b[1;31mNameError\u001b[0m: name 'hf_onsets_sess1' is not defined"
     ]
    }
   ],
   "source": [
    "\"\"\"Make the conditions\"\"\"\n",
    "\n",
    "names = ['high_freq', 'low_freq']\n",
    "#pmod = [[\"name\"]*5, np.random.rand(5, 100), 1]\n",
    "onsets_sess1 = [hf_onsets_sess1, lf_onsets_sess1]\n",
    "durations_sess1 = [hf_durations_sess1, lf_durations_sess1]\n",
    "\n",
    "onsets_sess2 = [hf_onsets_sess2, lf_onsets_sess2]\n",
    "durations_sess2 = [hf_durations_sess2, lf_durations_sess2]\n",
    "\n",
    "\n",
    "conditions_sess1 = conditions(names, onsets_sess1, durations_sess1)\n",
    "conditions_sess2 = conditions(names, onsets_sess2, durations_sess2)\n",
    "\n",
    "#cond #array of all conditions, ie for 2 sessions, 6 cond shape 2x6\n",
    "cond = np.array([conditions_sess1.mat, conditions_sess2.mat])\n"
   ]
  },
  {
   "cell_type": "code",
   "execution_count": 5,
   "metadata": {},
   "outputs": [],
   "source": [
    "\"\"\"Make the sessions\"\"\"\n",
    "\n",
    "mult_reg = multreg_list[:2]\n",
    "sessions = session(subj1, cond, mult_reg)\n",
    "\n",
    "#sio.savemat('sessions.mat', {'sessbatch2':sessions.mat})\n",
    "\n",
    "\"\"\"Make the batchfile\"\"\"\n",
    "\n",
    "batch = batchfile('home/funkx', timingParams(), sessions)\n",
    "\n",
    "sio.savemat('Subj1_highVsLowFreq_test.mat', {'matlabbatch':batch.matlabbatch})\n"
   ]
  }
 ],
 "metadata": {
  "kernelspec": {
   "display_name": "Python 3",
   "language": "python",
   "name": "python3"
  },
  "language_info": {
   "codemirror_mode": {
    "name": "ipython",
    "version": 3
   },
   "file_extension": ".py",
   "mimetype": "text/x-python",
   "name": "python",
   "nbconvert_exporter": "python",
   "pygments_lexer": "ipython3",
   "version": "3.7.4"
  }
 },
 "nbformat": 4,
 "nbformat_minor": 2
}
