{
 "cells": [
  {
   "cell_type": "markdown",
   "metadata": {},
   "source": [
    "## Batchmaker tutorial\n",
    "\n",
    "This notebook is a means to showcase batchmaker's most basic functionality in its current implementation. As a test case, a first-level SPM-readable batchfile will be constructed with a canonical block design. Test and control conditions will alternate, each block lasting 25 seconds."
   ]
  },
  {
   "cell_type": "code",
   "execution_count": 20,
   "metadata": {},
   "outputs": [],
   "source": [
    "import pandas as pd \n",
    "import numpy as np \n",
    "\n",
    "from batchmaker import *"
   ]
  },
  {
   "cell_type": "markdown",
   "metadata": {},
   "source": [
    "### Creating mock data\n",
    "\n",
    "In the following cell, mock data for this test case will be constructed, namely file paths to putative .nii scans and regressors for the canonical block design."
   ]
  },
  {
   "cell_type": "code",
   "execution_count": 21,
   "metadata": {},
   "outputs": [],
   "source": [
    "\"\"\"create mock data\"\"\"\n",
    "\n",
    "\"\"\"image paths\"\"\"\n",
    "\n",
    "# scans\n",
    "n_subj = 20\n",
    "n_scans = 400 \n",
    "paths = np.empty((n_subj,), dtype = np.object) # scans\n",
    "mult_regs = np.empty((n_subj), dtype = np.object) # movement parameters\n",
    "\n",
    "for i in range(n_subj):\n",
    "    \n",
    "    paths[i] = [\"subj{}_scan{}.nii\".format(str(i).zfill(2),\n",
    "                str(j).zfill(3)) for j in range(n_scans)] # 400 scans per subject\n",
    "    mult_regs[i] = \"mult_reg_subj{}.txt\".format(str(i).zfill(2)) # one mult_reg.txt file per subject\n",
    "    \n",
    "\n",
    "\"\"\"canonical block design\"\"\"\n",
    "\n",
    "# creating names for the regressors\n",
    "names = ['test_condition', 'control_condition']\n",
    "\n",
    "# creating all durations and onsets\n",
    "durations = np.array([25] * 32)\n",
    "onsets_all = np.append(np.array(0), np.cumsum(durations)[:-1])\n",
    "\n",
    "# splitting them into test and control \n",
    "durations_test, durations_control = np.array_split(durations, 2) \n",
    "\n",
    "onsets_test = onsets_all[[i for i in range(0, len(onsets_all), 2)]]\n",
    "onsets_control = onsets_all[[i for i in range(1, len(onsets_all), 2)]]"
   ]
  },
  {
   "cell_type": "markdown",
   "metadata": {},
   "source": [
    "### Batchmaker magic\n",
    "Once the conditions and scans are ready, a first-level batch file can be constructed and exported in a few lines of python code using the batchmaker module. If one wishes to use values differing from the default parameters, this is easily achieved by adding an additional argument in the class calls of Conditions, Session, Batchfile or TimingParams. Additional conditions and sessions are automatically created with increasing size of the input arrays."
   ]
  },
  {
   "cell_type": "code",
   "execution_count": 22,
   "metadata": {},
   "outputs": [],
   "source": [
    "# make the conditions\n",
    "cond = Conditions(names = names, onsets = [onsets_test, onsets_control], \n",
    "                  durations = [durations_test, durations_control])\n",
    "\n",
    "# Make the sessions\n",
    "for i in range(n_subj):\n",
    "    mult_reg = mult_regs[i]\n",
    "    sess = Session(np.array([paths[i]]), np.array([cond.mat]), mult_reg)\n",
    "\n",
    "# Make the batchfile\n",
    "batch = Batchfile('home/funkx', TimingParams(), sess)\n",
    "batch.export('subX')"
   ]
  }
 ],
 "metadata": {
  "kernelspec": {
   "display_name": "Python 3",
   "language": "python",
   "name": "python3"
  },
  "language_info": {
   "codemirror_mode": {
    "name": "ipython",
    "version": 3
   },
   "file_extension": ".py",
   "mimetype": "text/x-python",
   "name": "python",
   "nbconvert_exporter": "python",
   "pygments_lexer": "ipython3",
   "version": "3.7.4"
  }
 },
 "nbformat": 4,
 "nbformat_minor": 2
}
